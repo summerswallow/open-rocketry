{
 "cells": [
  {
   "cell_type": "code",
   "execution_count": null,
   "metadata": {},
   "outputs": [],
   "source": [
    "import sys\n",
    "sys.path.append('/home/jovyan/rocketry/library')\n",
    "from bodytubes.semroc import bt30, bt40, bt20\n",
    "from bodytubes.modelrockets_us import ll_18\n",
    "from bodytubes import BodyTube, standard_tube_sizes\n",
    "from misc.scale_table import ScaleTable"
   ]
  },
  {
   "cell_type": "code",
   "execution_count": null,
   "metadata": {},
   "outputs": [],
   "source": [
    "bt5_60 = BodyTube(bt20.outer_diameter*.6, bt20.inner_diameter*.6, \"60% BT-20 using BT-5 tube\")"
   ]
  },
  {
   "cell_type": "code",
   "execution_count": null,
   "metadata": {},
   "outputs": [],
   "source": [
    "all_sizes=standard_tube_sizes+[ll_18, bt30, bt40, bt5_60]"
   ]
  },
  {
   "cell_type": "code",
   "execution_count": null,
   "metadata": {},
   "outputs": [],
   "source": [
    "st=ScaleTable(all_sizes, main_tube=bt20)\n",
    "st.add_feature(\"Main Tube\", 6.5)\n",
    "st.add_feature(\"Launch Lug Length\", 1.25)"
   ]
  },
  {
   "cell_type": "code",
   "execution_count": null,
   "metadata": {},
   "outputs": [],
   "source": [
    "st.features()"
   ]
  },
  {
   "cell_type": "code",
   "execution_count": null,
   "metadata": {},
   "outputs": [],
   "source": [
    "st"
   ]
  }
 ],
 "metadata": {
  "kernelspec": {
   "display_name": "Python 3",
   "language": "python",
   "name": "python3"
  },
  "language_info": {
   "codemirror_mode": {
    "name": "ipython",
    "version": 3
   },
   "file_extension": ".py",
   "mimetype": "text/x-python",
   "name": "python",
   "nbconvert_exporter": "python",
   "pygments_lexer": "ipython3",
   "version": "3.7.6"
  }
 },
 "nbformat": 4,
 "nbformat_minor": 4
}
