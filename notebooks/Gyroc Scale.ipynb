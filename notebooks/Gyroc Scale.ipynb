{
 "cells": [
  {
   "cell_type": "code",
   "execution_count": 4,
   "metadata": {},
   "outputs": [],
   "source": [
    "import sys\n",
    "sys.path.append('/home/jovyan/rocketry/library')\n",
    "from bodytubes.semroc import bt30, bt40, bt20\n",
    "from bodytubes.modelrockets_us import ll_18\n",
    "from bodytubes import BodyTube, standard_tube_sizes\n",
    "from misc.scale_table import ScaleTable"
   ]
  },
  {
   "cell_type": "code",
   "execution_count": 5,
   "metadata": {},
   "outputs": [],
   "source": [
    "bt5_60 = BodyTube(bt20.outer_diameter*.6, bt20.inner_diameter*.6, \"60% BT-20 using BT-5 tube\")\n"
   ]
  },
  {
   "cell_type": "code",
   "execution_count": 6,
   "metadata": {},
   "outputs": [],
   "source": [
    "all_sizes=standard_tube_sizes+[ll_18, bt30, bt40, bt5_60]"
   ]
  },
  {
   "cell_type": "code",
   "execution_count": 7,
   "metadata": {},
   "outputs": [],
   "source": [
    "st=ScaleTable(all_sizes, main_tube=bt20)\n",
    "st.add_feature(\"Main Tube\", 6.5)\n",
    "st.add_feature(\"Launch Lug Length\", 1.25)"
   ]
  },
  {
   "cell_type": "code",
   "execution_count": 8,
   "metadata": {},
   "outputs": [
    {
     "data": {
      "text/html": [
       "<div>\n",
       "<style scoped>\n",
       "    .dataframe tbody tr th:only-of-type {\n",
       "        vertical-align: middle;\n",
       "    }\n",
       "\n",
       "    .dataframe tbody tr th {\n",
       "        vertical-align: top;\n",
       "    }\n",
       "\n",
       "    .dataframe thead th {\n",
       "        text-align: right;\n",
       "    }\n",
       "</style>\n",
       "<table border=\"1\" class=\"dataframe\">\n",
       "  <thead>\n",
       "    <tr style=\"text-align: right;\">\n",
       "      <th></th>\n",
       "      <th>ModelRockets 1/8 Launch Lug</th>\n",
       "      <th>BT-2</th>\n",
       "      <th>60% BT-20 using BT-5 tube</th>\n",
       "      <th>BT-5</th>\n",
       "      <th>BT-20</th>\n",
       "      <th>BT30</th>\n",
       "      <th>BT-40</th>\n",
       "      <th>BT-50</th>\n",
       "      <th>BT-55</th>\n",
       "      <th>BT-60</th>\n",
       "      <th>BT-70</th>\n",
       "      <th>BT-80</th>\n",
       "      <th>BMS T300</th>\n",
       "      <th>ModelRockets 3.00</th>\n",
       "      <th>ModelRockets 3.90</th>\n",
       "      <th>ModelRockets 5.38</th>\n",
       "    </tr>\n",
       "  </thead>\n",
       "  <tbody>\n",
       "    <tr>\n",
       "      <th>Percentage</th>\n",
       "      <td>24.456522</td>\n",
       "      <td>38.179348</td>\n",
       "      <td>60.00</td>\n",
       "      <td>73.777174</td>\n",
       "      <td>100.00</td>\n",
       "      <td>104.211957</td>\n",
       "      <td>112.092391</td>\n",
       "      <td>132.608696</td>\n",
       "      <td>180.027174</td>\n",
       "      <td>222.826087</td>\n",
       "      <td>301.222826</td>\n",
       "      <td>353.260870</td>\n",
       "      <td>407.608696</td>\n",
       "      <td>421.195652</td>\n",
       "      <td>543.478261</td>\n",
       "      <td>752.717391</td>\n",
       "    </tr>\n",
       "    <tr>\n",
       "      <th>Main Tube</th>\n",
       "      <td>1.589674</td>\n",
       "      <td>2.481658</td>\n",
       "      <td>3.90</td>\n",
       "      <td>4.795516</td>\n",
       "      <td>6.50</td>\n",
       "      <td>6.773777</td>\n",
       "      <td>7.286005</td>\n",
       "      <td>8.619565</td>\n",
       "      <td>11.701766</td>\n",
       "      <td>14.483696</td>\n",
       "      <td>19.579484</td>\n",
       "      <td>22.961957</td>\n",
       "      <td>26.494565</td>\n",
       "      <td>27.377717</td>\n",
       "      <td>35.326087</td>\n",
       "      <td>48.926630</td>\n",
       "    </tr>\n",
       "    <tr>\n",
       "      <th>Launch Lug Length</th>\n",
       "      <td>0.305707</td>\n",
       "      <td>0.477242</td>\n",
       "      <td>0.75</td>\n",
       "      <td>0.922215</td>\n",
       "      <td>1.25</td>\n",
       "      <td>1.302649</td>\n",
       "      <td>1.401155</td>\n",
       "      <td>1.657609</td>\n",
       "      <td>2.250340</td>\n",
       "      <td>2.785326</td>\n",
       "      <td>3.765285</td>\n",
       "      <td>4.415761</td>\n",
       "      <td>5.095109</td>\n",
       "      <td>5.264946</td>\n",
       "      <td>6.793478</td>\n",
       "      <td>9.408967</td>\n",
       "    </tr>\n",
       "  </tbody>\n",
       "</table>\n",
       "</div>"
      ],
      "text/plain": [
       "                   ModelRockets 1/8 Launch Lug       BT-2  \\\n",
       "Percentage                           24.456522  38.179348   \n",
       "Main Tube                             1.589674   2.481658   \n",
       "Launch Lug Length                     0.305707   0.477242   \n",
       "\n",
       "                   60% BT-20 using BT-5 tube       BT-5   BT-20        BT30  \\\n",
       "Percentage                             60.00  73.777174  100.00  104.211957   \n",
       "Main Tube                               3.90   4.795516    6.50    6.773777   \n",
       "Launch Lug Length                       0.75   0.922215    1.25    1.302649   \n",
       "\n",
       "                        BT-40       BT-50       BT-55       BT-60       BT-70  \\\n",
       "Percentage         112.092391  132.608696  180.027174  222.826087  301.222826   \n",
       "Main Tube            7.286005    8.619565   11.701766   14.483696   19.579484   \n",
       "Launch Lug Length    1.401155    1.657609    2.250340    2.785326    3.765285   \n",
       "\n",
       "                        BT-80    BMS T300  ModelRockets 3.00  \\\n",
       "Percentage         353.260870  407.608696         421.195652   \n",
       "Main Tube           22.961957   26.494565          27.377717   \n",
       "Launch Lug Length    4.415761    5.095109           5.264946   \n",
       "\n",
       "                   ModelRockets 3.90  ModelRockets 5.38  \n",
       "Percentage                543.478261         752.717391  \n",
       "Main Tube                  35.326087          48.926630  \n",
       "Launch Lug Length           6.793478           9.408967  "
      ]
     },
     "execution_count": 8,
     "metadata": {},
     "output_type": "execute_result"
    }
   ],
   "source": [
    "st.features()"
   ]
  },
  {
   "cell_type": "code",
   "execution_count": null,
   "metadata": {},
   "outputs": [],
   "source": [
    "st\n"
   ]
  },
  {
   "cell_type": "code",
   "execution_count": null,
   "metadata": {},
   "outputs": [],
   "source": [
    "1818/72"
   ]
  },
  {
   "cell_type": "code",
   "execution_count": null,
   "metadata": {},
   "outputs": [],
   "source": [
    "df.loc['outer_diameter']={x.name: x.outer_diameter for x in all_sizes}\n",
    "for each in all_sizes:\n",
    "    df.loc[each.name]={x.name: x.outer_diameter/each.outer_diameter for x in all_sizes}"
   ]
  },
  {
   "cell_type": "code",
   "execution_count": null,
   "metadata": {},
   "outputs": [],
   "source": [
    "df"
   ]
  },
  {
   "cell_type": "code",
   "execution_count": null,
   "metadata": {},
   "outputs": [],
   "source": []
  }
 ],
 "metadata": {
  "kernelspec": {
   "display_name": "Python 3",
   "language": "python",
   "name": "python3"
  },
  "language_info": {
   "codemirror_mode": {
    "name": "ipython",
    "version": 3
   },
   "file_extension": ".py",
   "mimetype": "text/x-python",
   "name": "python",
   "nbconvert_exporter": "python",
   "pygments_lexer": "ipython3",
   "version": "3.7.6"
  }
 },
 "nbformat": 4,
 "nbformat_minor": 4
}
