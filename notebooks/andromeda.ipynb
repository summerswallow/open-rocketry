{
 "cells": [
  {
   "cell_type": "code",
   "execution_count": 1,
   "metadata": {},
   "outputs": [],
   "source": [
    "import sys\n",
    "sys.path.append('/home/jovyan/rocketry/open_rocketry/library')\n",
    "from nosecone_library.specific_noses import BNC50J\n",
    "from bodytubes.semroc import bt20, bt50, bt60\n",
    "from bodytubes.modelrockets_us import _29mm\n",
    "from nosecone.nosecone_bases import HollowBaseWithScrewHole\n",
    "from nosecone.transition import Transition\n",
    "from viewscad_connector.renderer import Renderer\n",
    "vr = Renderer()"
   ]
  },
  {
   "cell_type": "code",
   "execution_count": 2,
   "metadata": {},
   "outputs": [
    {
     "data": {
      "application/vnd.jupyter.widget-view+json": {
       "model_id": "c38435e7e1fd495d9e11c220a5def3f8",
       "version_major": 2,
       "version_minor": 0
      },
      "text/plain": [
       "VBox(children=(HTML(value=''), Renderer(background='#cccc88', background_opacity=0.0, camera=PerspectiveCamera…"
      ]
     },
     "metadata": {},
     "output_type": "display_data"
    }
   ],
   "source": [
    "t = Transition(1.23975,\n",
    "               bodytube1=_29mm,\n",
    "               bodytube2=bt50,\n",
    "               shoulder=.75,\n",
    "               thickness=1 / 16.,\n",
    "               bodytube3=bt20,\n",
    "               open_end=True,\n",
    "               fudge=0.02)\n",
    "vr.render(t.transition, outfile=\"bt50t.stl\")"
   ]
  },
  {
   "cell_type": "code",
   "execution_count": 4,
   "metadata": {},
   "outputs": [
    {
     "data": {
      "application/vnd.jupyter.widget-view+json": {
       "model_id": "68009361b44044e7b308500a757b9a4d",
       "version_major": 2,
       "version_minor": 0
      },
      "text/plain": [
       "VBox(children=(HTML(value=''), Renderer(background='#cccc88', background_opacity=0.0, camera=PerspectiveCamera…"
      ]
     },
     "metadata": {},
     "output_type": "display_data"
    }
   ],
   "source": [
    "t = Transition(1.67725,\n",
    "               bodytube1=bt60,\n",
    "               bodytube2=_29mm,\n",
    "               shoulder=.75,\n",
    "               thickness=1 / 16.,\n",
    "               bodytube3=bt50,\n",
    "               open_end=True)\n",
    "vr.render(t.transition, outfile=\"29mmt.stl\")\n"
   ]
  },
  {
   "cell_type": "code",
   "execution_count": 5,
   "metadata": {},
   "outputs": [
    {
     "name": "stdout",
     "output_type": "stream",
     "text": [
      "New Length: 1.6984631147540983 in\n"
     ]
    },
    {
     "data": {
      "application/vnd.jupyter.widget-view+json": {
       "model_id": "f8bc95c69daa4ebc9c89c2e059ed6732",
       "version_major": 2,
       "version_minor": 0
      },
      "text/plain": [
       "VBox(children=(HTML(value=''), Renderer(background='#cccc88', background_opacity=0.0, camera=PerspectiveCamera…"
      ]
     },
     "metadata": {},
     "output_type": "display_data"
    }
   ],
   "source": [
    "nc = BNC50J(thickness=1. / 16, scale_bodytube=_29mm)\n",
    "nc = HollowBaseWithScrewHole(nc,\n",
    "                             shoulder=0.75,\n",
    "                             screw_diameter=1 / 16.,\n",
    "                             screw_length=0.25)\n",
    "\n",
    "vr.render(nc.cone, outfile=\"bt50n.stl\")"
   ]
  },
  {
   "cell_type": "code",
   "execution_count": 6,
   "metadata": {},
   "outputs": [
    {
     "name": "stdout",
     "output_type": "stream",
     "text": [
      "New Length: 2.302049180327869 in\n"
     ]
    },
    {
     "data": {
      "application/vnd.jupyter.widget-view+json": {
       "model_id": "2a054adcbf754e0bb24c8b2c4e7d0905",
       "version_major": 2,
       "version_minor": 0
      },
      "text/plain": [
       "VBox(children=(HTML(value=''), Renderer(background='#cccc88', background_opacity=0.0, camera=PerspectiveCamera…"
      ]
     },
     "metadata": {},
     "output_type": "display_data"
    }
   ],
   "source": [
    "nc = BNC50J(thickness=1. / 16, scale_bodytube=bt60)\n",
    "nc = HollowBaseWithScrewHole(nc,\n",
    "                             shoulder=0.75,\n",
    "                             screw_diameter=1 / 16.,\n",
    "                             screw_length=0.25)\n",
    "vr.render(nc.cone, outfile=\"29mmn.stl\")"
   ]
  },
  {
   "cell_type": "code",
   "execution_count": null,
   "metadata": {},
   "outputs": [],
   "source": []
  }
 ],
 "metadata": {
  "kernelspec": {
   "display_name": "Python 3",
   "language": "python",
   "name": "python3"
  },
  "language_info": {
   "codemirror_mode": {
    "name": "ipython",
    "version": 3
   },
   "file_extension": ".py",
   "mimetype": "text/x-python",
   "name": "python",
   "nbconvert_exporter": "python",
   "pygments_lexer": "ipython3",
   "version": "3.7.1"
  }
 },
 "nbformat": 4,
 "nbformat_minor": 2
}
