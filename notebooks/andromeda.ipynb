{
 "cells": [
  {
   "cell_type": "code",
   "execution_count": 1,
   "metadata": {},
   "outputs": [],
   "source": [
    "import sys\n",
    "sys.path.append('/home/jovyan/rocketry/open_rocketry/library')\n",
    "from nosecone_library.specific_noses import BNC50J\n",
    "from bodytubes.semroc import bt20, bt50, bt60\n",
    "from bodytubes.modelrockets_us import _29mm\n",
    "from nosecone.nosecone_bases import HollowBaseWithScrewHole\n",
    "from nosecone.transition import Transition\n",
    "import viewscad\n",
    "vr = viewscad.Renderer()"
   ]
  },
  {
   "cell_type": "code",
   "execution_count": 8,
   "metadata": {},
   "outputs": [
    {
     "data": {
      "application/vnd.jupyter.widget-view+json": {
       "model_id": "99d6d9afd64d4a3885fe620fd73298bb",
       "version_major": 2,
       "version_minor": 0
      },
      "text/plain": [
       "VBox(children=(HTML(value=''), Renderer(background='#cccc88', background_opacity=0.0, camera=PerspectiveCamera…"
      ]
     },
     "metadata": {},
     "output_type": "display_data"
    }
   ],
   "source": [
    "t=Transition(1.23975, bodytube1=_29mm, bodytube2=bt50, shoulder=.75, thickness = 1/16., bodytube3=bt20, open_end=True, fudge=0.02)\n",
    "vr.render(t.transition, dollar_sign_vars=dict(fn=200))"
   ]
  },
  {
   "cell_type": "code",
   "execution_count": 9,
   "metadata": {},
   "outputs": [
    {
     "data": {
      "application/vnd.jupyter.widget-view+json": {
       "model_id": "d86540f6f6c241fe9b11375431f97359",
       "version_major": 2,
       "version_minor": 0
      },
      "text/plain": [
       "VBox(children=(HTML(value=''), Renderer(background='#cccc88', background_opacity=0.0, camera=PerspectiveCamera…"
      ]
     },
     "metadata": {},
     "output_type": "display_data"
    }
   ],
   "source": [
    "t = Transition(1.67725,\n",
    "               bodytube1=bt60,\n",
    "               bodytube2=_29mm,\n",
    "               shoulder=.75,\n",
    "               thickness=1 / 16.,\n",
    "               bodytube3=bt50,\n",
    "               open_end=True)\n",
    "vr.render(t.transition, dollar_sign_vars=dict(fn=200))"
   ]
  },
  {
   "cell_type": "code",
   "execution_count": 2,
   "metadata": {},
   "outputs": [
    {
     "name": "stdout",
     "output_type": "stream",
     "text": [
      "New Length: 1.6984631147540983 in\n"
     ]
    },
    {
     "data": {
      "application/vnd.jupyter.widget-view+json": {
       "model_id": "0361a0ffd62e4846b873915d63a38754",
       "version_major": 2,
       "version_minor": 0
      },
      "text/plain": [
       "VBox(children=(HTML(value=''), Renderer(background='#cccc88', background_opacity=0.0, camera=PerspectiveCamera…"
      ]
     },
     "metadata": {},
     "output_type": "display_data"
    }
   ],
   "source": [
    "nc = BNC50J(thickness=1. / 16, scale_bodytube=_29mm)\n",
    "nc = HollowBaseWithScrewHole(nc,\n",
    "                             shoulder=0.75,\n",
    "                             screw_diameter=1 / 16.,\n",
    "                             screw_length=0.25)\n",
    "\n",
    "vr.render(nc.cone, dollar_sign_vars=dict(fn=200))"
   ]
  },
  {
   "cell_type": "code",
   "execution_count": 3,
   "metadata": {},
   "outputs": [
    {
     "name": "stdout",
     "output_type": "stream",
     "text": [
      "New Length: 2.302049180327869 in\n"
     ]
    },
    {
     "data": {
      "application/vnd.jupyter.widget-view+json": {
       "model_id": "cc33884517434bd08481ce1d4ebb639c",
       "version_major": 2,
       "version_minor": 0
      },
      "text/plain": [
       "VBox(children=(HTML(value=''), Renderer(background='#cccc88', background_opacity=0.0, camera=PerspectiveCamera…"
      ]
     },
     "metadata": {},
     "output_type": "display_data"
    }
   ],
   "source": [
    "nc = BNC50J(thickness=1. / 16, scale_bodytube=bt60)\n",
    "nc = HollowBaseWithScrewHole(nc,\n",
    "                             shoulder=0.75,\n",
    "                             screw_diameter=1 / 16.,\n",
    "                             screw_length=0.25)\n",
    "vr.render(nc.cone, dollar_sign_vars=dict(fn=200))"
   ]
  },
  {
   "cell_type": "code",
   "execution_count": null,
   "metadata": {},
   "outputs": [],
   "source": []
  }
 ],
 "metadata": {
  "kernelspec": {
   "display_name": "Python 3",
   "language": "python",
   "name": "python3"
  },
  "language_info": {
   "codemirror_mode": {
    "name": "ipython",
    "version": 3
   },
   "file_extension": ".py",
   "mimetype": "text/x-python",
   "name": "python",
   "nbconvert_exporter": "python",
   "pygments_lexer": "ipython3",
   "version": "3.7.1"
  }
 },
 "nbformat": 4,
 "nbformat_minor": 2
}
