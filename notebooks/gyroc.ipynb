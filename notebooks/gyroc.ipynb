{
 "cells": [
  {
   "cell_type": "code",
   "execution_count": null,
   "metadata": {},
   "outputs": [],
   "source": [
    "import os\n",
    "\n",
    "from bodytubes.modelrockets_us import _3_00\n",
    "from bodytubes.semroc import bt5, bt2, bt50, bt30, bt55, bt60, bt70, bt80, bt40\n",
    "from misc import utils\n",
    "from nosecone.nosecone_bases import HollowBase\n",
    "from nosecone.nosecone_threaded_bases import ScrewInBase, ThreadedBaseOutsetScrewInBase\n",
    "from nosecone_library.specific_noses import BNC20B\n",
    "\n",
    "basedir = os.path.dirname(__file__)\n",
    "\n",
    "nc = BNC20B(scale_bodytube=bt2, thickness = 1/16., shoulder=0.5)\n",
    "nc = HollowBase(nc, shoulder=0.25)\n",
    "utils.render_to_file(nc.cone, os.path.join(basedir, \"nosecones\", \"bt2_nose.scad\"))\n",
    "nc = BNC20B(scale_bodytube=bt5, thickness = 1/16., shoulder=0.5)\n",
    "nc = HollowBase(nc, shoulder=0.375)\n",
    "utils.render_to_file(nc.cone, os.path.join(basedir, \"nosecones\", \"bt5_nose.scad\"))\n",
    "nc = BNC20B(thickness = 1/16.)\n",
    "nc = HollowBase(nc, shoulder=0.5)\n",
    "utils.render_to_file(nc.cone, os.path.join(basedir, \"nosecones\", \"bt20_nose.scad\"))\n",
    "nc = BNC20B(scale_bodytube=bt30, thickness = 1/16., shoulder=0.5)\n",
    "nc = HollowBase(nc, shoulder=0.5625)\n",
    "utils.render_to_file(nc.cone, os.path.join(basedir, \"nosecones\", \"bt30_nose.scad\"))\n",
    "nc = BNC20B(scale_bodytube=bt40, thickness = 1/16., shoulder=0.5)\n",
    "nc = HollowBase(nc, shoulder=0.5625)\n",
    "utils.render_to_file(nc.cone, os.path.join(basedir, \"nosecones\", \"bt40_nose.scad\"))\n",
    "nc = BNC20B(scale_bodytube=bt50, thickness = 1/16., shoulder=0.5)\n",
    "nc = HollowBase(nc, shoulder=0.625)\n",
    "utils.render_to_file(nc.cone, os.path.join(basedir, \"nosecones\", \"bt50_nose.scad\"))\n",
    "nc = BNC20B(scale_bodytube=bt55, thickness = 1/16., shoulder=0.5)\n",
    "nc = HollowBase(nc, shoulder=0.75)\n",
    "utils.render_to_file(nc.cone, os.path.join(basedir, \"nosecones\", \"bt55_nose.scad\"))\n",
    "nc = BNC20B(scale_bodytube=bt60, thickness = 5/64., shoulder=0.5)\n",
    "nc = ScrewInBase(nc, shoulder=0.75, thread_height=.375, thread_diameter=1.5, threads_per_inch=10)\n",
    "utils.render_to_file(nc.cone,os.path.join(basedir, \"nosecones\", \"bt60_nose.scad\"))\n",
    "utils.render_to_file(nc.mate, os.path.join(basedir, \"nosecones\", \"bt60_nose_base.scad\"))\n",
    "nc = BNC20B(scale_bodytube=bt70, thickness = 5/64., shoulder=0.5)\n",
    "nc = ScrewInBase(nc, shoulder=1.0, thread_height=.5, thread_diameter=bt70.inner_diameter-.1, threads_per_inch=10)\n",
    "utils.render_to_file(nc.cone,os.path.join(basedir, \"nosecones\", \"bt70_nose.scad\"))\n",
    "utils.render_to_file(nc.mate, os.path.join(basedir, \"nosecones\", \"bt70_nose_base.scad\"))\n",
    "nc = BNC20B(scale_bodytube=bt80, thickness = 3/32, shoulder=0.5)\n",
    "nc = ThreadedBaseOutsetScrewInBase(nc, shoulder=1.0, thread_height=.5, thread_diameter=bt80.inner_diameter-.15, lower_tpi=6, upper_tpi=8)\n",
    "utils.render_to_file(nc.cone,os.path.join(basedir, \"nosecones\", \"bt80_nose.scad\"))\n",
    "utils.render_to_file(nc.center_mate, os.path.join(basedir, \"nosecones\", \"bt80_nose_center.scad\"))\n",
    "utils.render_to_file(nc.mate, os.path.join(basedir, \"nosecones\", \"bt80_nose_base.scad\"))\n",
    "nc = BNC20B(scale_bodytube=bt80, thickness = 3/32, shoulder=0.5)\n",
    "nc = ThreadedBaseOutsetScrewInBase(nc, shoulder=1.0, thread_height=.5, thread_diameter=bt80.inner_diameter-.15, lower_tpi=6, upper_tpi=8)\n",
    "utils.render_to_file(nc.crosssection(nc.cone),os.path.join(basedir, \"nosecones\", \"bt80_nose.scad\"))\n",
    "utils.render_to_file(nc.crosssection(nc.center_mate), os.path.join(basedir, \"nosecones\", \"bt80_nose_center.scad\"))\n",
    "utils.render_to_file(nc.crosssection(nc.mate), os.path.join(basedir, \"nosecones\", \"bt80_nose_base.scad\"))\n",
    "nc = BNC20B(scale_bodytube=_3_00, thickness = 3/32., shoulder=0.5)\n",
    "nc = ThreadedBaseOutsetScrewInBase(nc, shoulder=1.5, thread_height=1., thread_diameter=_3_00.inner_diameter-.2, lower_tpi=6, upper_tpi=8)\n",
    "utils.render_to_file(nc.cone,os.path.join(basedir, \"nosecones\", \"3in_nose.scad\"))\n",
    "utils.render_to_file(nc.center_mate, os.path.join(basedir, \"nosecones\", \"3in_nose_center.scad\"))\n",
    "utils.render_to_file(nc.mate, os.path.join(basedir, \"nosecones\", \"3in_nose_base.scad\"))\n",
    "\n"
   ]
  }
 ],
 "metadata": {
  "kernelspec": {
   "display_name": "Python 3",
   "language": "python",
   "name": "python3"
  },
  "language_info": {
   "codemirror_mode": {
    "name": "ipython",
    "version": 3
   },
   "file_extension": ".py",
   "mimetype": "text/x-python",
   "name": "python",
   "nbconvert_exporter": "python",
   "pygments_lexer": "ipython3",
   "version": "3.7.1"
  }
 },
 "nbformat": 4,
 "nbformat_minor": 2
}
