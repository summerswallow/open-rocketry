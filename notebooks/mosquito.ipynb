{
 "cells": [
  {
   "cell_type": "code",
   "execution_count": null,
   "metadata": {},
   "outputs": [],
   "source": [
    "from nosecone_library.specific_noses import BNC5V\n",
    "from bodytubes.semroc import bt20, bt2, bt50, bt30, bt55\n",
    "from misc import utils\n",
    "from nosecone.nosecone_bases import HollowBase\n",
    "import os\n",
    "\n",
    "basedir = os.path.dirname(__file__)\n",
    "\n",
    "nc = BNC5V(scale_bodytube=bt2, thickness = 1/16., shoulder=0.5)\n",
    "nc = HollowBase(nc, shoulder=0.25)\n",
    "utils.render_to_file(nc.cone, os.path.join(basedir, \"nosecones\", \"bt2_nose.scad\"))\n",
    "nc = BNC5V(thickness = 1/16.)\n",
    "nc = HollowBase(nc, shoulder=0.5)\n",
    "utils.render_to_file(nc.cone, os.path.join(basedir, \"nosecones\", \"bt5_nose.scad\"))\n",
    "nc = BNC5V(scale_bodytube=bt20, thickness = 1/16., shoulder=0.5)\n",
    "nc = HollowBase(nc, shoulder=0.5625)\n",
    "utils.render_to_file(nc.cone, os.path.join(basedir, \"nosecones\", \"bt20_nose.scad\"))\n",
    "nc = BNC5V(scale_bodytube=bt30, thickness = 1/16., shoulder=0.5)\n",
    "nc = HollowBase(nc, shoulder=0.5625)\n",
    "utils.render_to_file(nc.cone, os.path.join(basedir, \"nosecones\", \"bt30_nose.scad\"))\n",
    "nc = BNC5V(scale_bodytube=bt50, thickness = 1/16., shoulder=0.5)\n",
    "nc = HollowBase(nc, shoulder=0.625)\n",
    "utils.render_to_file(nc.cone, os.path.join(basedir, \"nosecones\", \"bt50_nose.scad\"))\n",
    "nc = BNC5V(scale_bodytube=bt55, thickness = 1/16., shoulder=0.5)\n",
    "nc = HollowBase(nc, shoulder=0.75)\n",
    "utils.render_to_file(nc.cone, os.path.join(basedir, \"nosecones\", \"bt55_nose.scad\"))\n",
    "\n"
   ]
  }
 ],
 "metadata": {
  "kernelspec": {
   "display_name": "Python 3",
   "language": "python",
   "name": "python3"
  },
  "language_info": {
   "codemirror_mode": {
    "name": "ipython",
    "version": 3
   },
   "file_extension": ".py",
   "mimetype": "text/x-python",
   "name": "python",
   "nbconvert_exporter": "python",
   "pygments_lexer": "ipython3",
   "version": "3.7.1"
  }
 },
 "nbformat": 4,
 "nbformat_minor": 2
}
