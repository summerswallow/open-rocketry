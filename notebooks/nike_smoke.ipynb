{
 "cells": [
  {
   "cell_type": "markdown",
   "metadata": {},
   "source": [
    "![title](http://www.airplanesandrockets.com/rockets/images/nike-smoke-sounding-rocket-plans-apr-1968-aam-1478x945.jpg)"
   ]
  },
  {
   "cell_type": "code",
   "execution_count": 1,
   "metadata": {},
   "outputs": [],
   "source": [
    "dimensions=dict(\n",
    "    cone_nose=101.83-.85-2.08,\n",
    "    flat_nose=2.08+.75,\n",
    "    taper_nose=4.05,\n",
    "    tube_length=134.750-.75-4.05,\n",
    "    tube_diameter = 16.50,\n",
    "    flat_diameter=17.60,\n",
    "    fin_width=23.25,\n",
    "    fin_taper = 6.575,\n",
    "    fin_height = 21.65,\n",
    "    fin_displacement=6.9)"
   ]
  },
  {
   "cell_type": "code",
   "execution_count": 2,
   "metadata": {},
   "outputs": [],
   "source": [
    "bt2=0.246"
   ]
  },
  {
   "cell_type": "code",
   "execution_count": 3,
   "metadata": {},
   "outputs": [],
   "source": [
    "scale_factor = bt2/dimensions['tube_diameter']"
   ]
  },
  {
   "cell_type": "code",
   "execution_count": 4,
   "metadata": {},
   "outputs": [
    {
     "data": {
      "text/plain": [
       "0.014909090909090908"
      ]
     },
     "execution_count": 4,
     "metadata": {},
     "output_type": "execute_result"
    }
   ],
   "source": [
    "scale_factor"
   ]
  },
  {
   "cell_type": "code",
   "execution_count": 5,
   "metadata": {},
   "outputs": [],
   "source": [
    "import pandas as pd"
   ]
  },
  {
   "cell_type": "code",
   "execution_count": 18,
   "metadata": {},
   "outputs": [],
   "source": [
    "df=pd.DataFrame(dimensions, index=['Original']).transpose()"
   ]
  },
  {
   "cell_type": "code",
   "execution_count": 19,
   "metadata": {},
   "outputs": [
    {
     "data": {
      "text/html": [
       "<div>\n",
       "<style scoped>\n",
       "    .dataframe tbody tr th:only-of-type {\n",
       "        vertical-align: middle;\n",
       "    }\n",
       "\n",
       "    .dataframe tbody tr th {\n",
       "        vertical-align: top;\n",
       "    }\n",
       "\n",
       "    .dataframe thead th {\n",
       "        text-align: right;\n",
       "    }\n",
       "</style>\n",
       "<table border=\"1\" class=\"dataframe\">\n",
       "  <thead>\n",
       "    <tr style=\"text-align: right;\">\n",
       "      <th></th>\n",
       "      <th>Original</th>\n",
       "    </tr>\n",
       "  </thead>\n",
       "  <tbody>\n",
       "    <tr>\n",
       "      <th>cone_nose</th>\n",
       "      <td>98.900</td>\n",
       "    </tr>\n",
       "    <tr>\n",
       "      <th>flat_nose</th>\n",
       "      <td>2.830</td>\n",
       "    </tr>\n",
       "    <tr>\n",
       "      <th>taper_nose</th>\n",
       "      <td>4.050</td>\n",
       "    </tr>\n",
       "    <tr>\n",
       "      <th>tube_length</th>\n",
       "      <td>129.950</td>\n",
       "    </tr>\n",
       "    <tr>\n",
       "      <th>tube_diameter</th>\n",
       "      <td>16.500</td>\n",
       "    </tr>\n",
       "    <tr>\n",
       "      <th>flat_diameter</th>\n",
       "      <td>17.600</td>\n",
       "    </tr>\n",
       "    <tr>\n",
       "      <th>fin_width</th>\n",
       "      <td>23.250</td>\n",
       "    </tr>\n",
       "    <tr>\n",
       "      <th>fin_taper</th>\n",
       "      <td>6.575</td>\n",
       "    </tr>\n",
       "    <tr>\n",
       "      <th>fin_height</th>\n",
       "      <td>21.650</td>\n",
       "    </tr>\n",
       "    <tr>\n",
       "      <th>fin_displacement</th>\n",
       "      <td>6.900</td>\n",
       "    </tr>\n",
       "  </tbody>\n",
       "</table>\n",
       "</div>"
      ],
      "text/plain": [
       "                  Original\n",
       "cone_nose           98.900\n",
       "flat_nose            2.830\n",
       "taper_nose           4.050\n",
       "tube_length        129.950\n",
       "tube_diameter       16.500\n",
       "flat_diameter       17.600\n",
       "fin_width           23.250\n",
       "fin_taper            6.575\n",
       "fin_height          21.650\n",
       "fin_displacement     6.900"
      ]
     },
     "execution_count": 19,
     "metadata": {},
     "output_type": "execute_result"
    }
   ],
   "source": [
    "df"
   ]
  },
  {
   "cell_type": "code",
   "execution_count": 20,
   "metadata": {},
   "outputs": [],
   "source": [
    "df['BT2']=df.apply(lambda row: row * scale_factor, axis = 1) "
   ]
  },
  {
   "cell_type": "code",
   "execution_count": 21,
   "metadata": {},
   "outputs": [
    {
     "data": {
      "text/html": [
       "<div>\n",
       "<style scoped>\n",
       "    .dataframe tbody tr th:only-of-type {\n",
       "        vertical-align: middle;\n",
       "    }\n",
       "\n",
       "    .dataframe tbody tr th {\n",
       "        vertical-align: top;\n",
       "    }\n",
       "\n",
       "    .dataframe thead th {\n",
       "        text-align: right;\n",
       "    }\n",
       "</style>\n",
       "<table border=\"1\" class=\"dataframe\">\n",
       "  <thead>\n",
       "    <tr style=\"text-align: right;\">\n",
       "      <th></th>\n",
       "      <th>Original</th>\n",
       "      <th>BT2</th>\n",
       "    </tr>\n",
       "  </thead>\n",
       "  <tbody>\n",
       "    <tr>\n",
       "      <th>cone_nose</th>\n",
       "      <td>98.900</td>\n",
       "      <td>1.474509</td>\n",
       "    </tr>\n",
       "    <tr>\n",
       "      <th>flat_nose</th>\n",
       "      <td>2.830</td>\n",
       "      <td>0.042193</td>\n",
       "    </tr>\n",
       "    <tr>\n",
       "      <th>taper_nose</th>\n",
       "      <td>4.050</td>\n",
       "      <td>0.060382</td>\n",
       "    </tr>\n",
       "    <tr>\n",
       "      <th>tube_length</th>\n",
       "      <td>129.950</td>\n",
       "      <td>1.937436</td>\n",
       "    </tr>\n",
       "    <tr>\n",
       "      <th>tube_diameter</th>\n",
       "      <td>16.500</td>\n",
       "      <td>0.246000</td>\n",
       "    </tr>\n",
       "    <tr>\n",
       "      <th>flat_diameter</th>\n",
       "      <td>17.600</td>\n",
       "      <td>0.262400</td>\n",
       "    </tr>\n",
       "    <tr>\n",
       "      <th>fin_width</th>\n",
       "      <td>23.250</td>\n",
       "      <td>0.346636</td>\n",
       "    </tr>\n",
       "    <tr>\n",
       "      <th>fin_taper</th>\n",
       "      <td>6.575</td>\n",
       "      <td>0.098027</td>\n",
       "    </tr>\n",
       "    <tr>\n",
       "      <th>fin_height</th>\n",
       "      <td>21.650</td>\n",
       "      <td>0.322782</td>\n",
       "    </tr>\n",
       "    <tr>\n",
       "      <th>fin_displacement</th>\n",
       "      <td>6.900</td>\n",
       "      <td>0.102873</td>\n",
       "    </tr>\n",
       "  </tbody>\n",
       "</table>\n",
       "</div>"
      ],
      "text/plain": [
       "                  Original       BT2\n",
       "cone_nose           98.900  1.474509\n",
       "flat_nose            2.830  0.042193\n",
       "taper_nose           4.050  0.060382\n",
       "tube_length        129.950  1.937436\n",
       "tube_diameter       16.500  0.246000\n",
       "flat_diameter       17.600  0.262400\n",
       "fin_width           23.250  0.346636\n",
       "fin_taper            6.575  0.098027\n",
       "fin_height          21.650  0.322782\n",
       "fin_displacement     6.900  0.102873"
      ]
     },
     "execution_count": 21,
     "metadata": {},
     "output_type": "execute_result"
    }
   ],
   "source": [
    "df"
   ]
  },
  {
   "cell_type": "code",
   "execution_count": 10,
   "metadata": {},
   "outputs": [],
   "source": [
    "class bt():\n",
    "    def __init__(self,id,od):\n",
    "        self.outer_diameter=od\n",
    "        self.inner_diameter=id\n",
    "        \n",
    "import inspect\n",
    "def retrieve_name(var):\n",
    "    callers_local_vars = inspect.currentframe().f_back.f_locals.items()\n",
    "    return [var_name for var_name, var_val in callers_local_vars if var_val is var]\n",
    "BT2=bt(.240, .246)"
   ]
  },
  {
   "cell_type": "code",
   "execution_count": 11,
   "metadata": {},
   "outputs": [],
   "source": [
    "BT5=bt(.545, .555)\n",
    "BT20=bt(.745, .766)"
   ]
  },
  {
   "cell_type": "code",
   "execution_count": 22,
   "metadata": {},
   "outputs": [],
   "source": [
    "import sys\n",
    "sys.path.append('/home/jovyan/rocketry/open_rocketry/library')\n",
    "from nosecone.standard_nosecones import EllipticalNoseCone, ConicalNoseCone\n",
    "from nosecone.tapered_base_nosecone import TaperedBaseNoseCone\n",
    "from bodytubes.semroc import bt2, bt50, bt60\n",
    "from viewscad import Renderer\n",
    "vr = Renderer()"
   ]
  },
  {
   "cell_type": "code",
   "execution_count": 28,
   "metadata": {},
   "outputs": [],
   "source": [
    "length=df['BT2']['cone_nose']+df['BT2']['flat_nose']+df['BT2']['taper_nose']"
   ]
  },
  {
   "cell_type": "code",
   "execution_count": 35,
   "metadata": {},
   "outputs": [
    {
     "name": "stdout",
     "output_type": "stream",
     "text": [
      "0.2624\n",
      "3.33248 3.5687\n"
     ]
    }
   ],
   "source": [
    "nc2 = TaperedBaseNoseCone(ConicalNoseCone,\n",
    "                          df['BT2']['flat_diameter'],\n",
    "                          df['BT2']['taper_nose'],\n",
    "                          df['BT2']['flat_nose'],\n",
    "                          length=length,\n",
    "                          bodytube=bt2,\n",
    "                          thickness=1 / 16.)"
   ]
  },
  {
   "cell_type": "code",
   "execution_count": 36,
   "metadata": {},
   "outputs": [
    {
     "data": {
      "application/vnd.jupyter.widget-view+json": {
       "model_id": "a475f602f93d4aae921d2d75fcf53a25",
       "version_major": 2,
       "version_minor": 0
      },
      "text/plain": [
       "VBox(children=(HTML(value=''), Renderer(background='#cccc88', background_opacity=0.0, camera=PerspectiveCamera…"
      ]
     },
     "metadata": {},
     "output_type": "display_data"
    }
   ],
   "source": [
    "vr.render(nc2.cone, dollar_sign_vars=dict(fn=200))"
   ]
  },
  {
   "cell_type": "code",
   "execution_count": 12,
   "metadata": {},
   "outputs": [],
   "source": [
    "tubes = ['BT2', 'BT5', 'BT20']"
   ]
  },
  {
   "cell_type": "code",
   "execution_count": 13,
   "metadata": {},
   "outputs": [],
   "source": [
    "class ScaleTable():\n",
    "    def __init__(self, nominal, tubes):\n",
    "        self.nominal = globals()[nominal].outer_diameter\n",
    "        self.diameters = [globals()[each].outer_diameter for each in tubes]\n",
    "            \n",
    "        array = []\n",
    "        for each in self.diameters:\n",
    "            subarray = []\n",
    "            for other in self.diameters:\n",
    "                subarray.append(each/other)\n",
    "            subarray.append(each/self.nominal)\n",
    "            array.append(subarray)\n",
    "            \n",
    "        self.df= pd.DataFrame(array, columns=tubes+['Scale Factor'], index=tubes).transpose()\n",
    "    def add_feature(self, name, length):\n",
    "        row = [each/self.nominal*length for each in self.diameters]\n",
    "        dft = self.df.loc[name]=row"
   ]
  },
  {
   "cell_type": "code",
   "execution_count": 14,
   "metadata": {},
   "outputs": [],
   "source": [
    "df=ScaleTable('BT5', tubes)"
   ]
  },
  {
   "cell_type": "code",
   "execution_count": 15,
   "metadata": {},
   "outputs": [],
   "source": [
    "df.add_feature(\"Main Tube\", 2)"
   ]
  },
  {
   "cell_type": "code",
   "execution_count": 16,
   "metadata": {},
   "outputs": [
    {
     "data": {
      "text/html": [
       "<div>\n",
       "<style scoped>\n",
       "    .dataframe tbody tr th:only-of-type {\n",
       "        vertical-align: middle;\n",
       "    }\n",
       "\n",
       "    .dataframe tbody tr th {\n",
       "        vertical-align: top;\n",
       "    }\n",
       "\n",
       "    .dataframe thead th {\n",
       "        text-align: right;\n",
       "    }\n",
       "</style>\n",
       "<table border=\"1\" class=\"dataframe\">\n",
       "  <thead>\n",
       "    <tr style=\"text-align: right;\">\n",
       "      <th></th>\n",
       "      <th>BT2</th>\n",
       "      <th>BT5</th>\n",
       "      <th>BT20</th>\n",
       "    </tr>\n",
       "  </thead>\n",
       "  <tbody>\n",
       "    <tr>\n",
       "      <th>BT2</th>\n",
       "      <td>1.000000</td>\n",
       "      <td>2.256098</td>\n",
       "      <td>3.113821</td>\n",
       "    </tr>\n",
       "    <tr>\n",
       "      <th>BT5</th>\n",
       "      <td>0.443243</td>\n",
       "      <td>1.000000</td>\n",
       "      <td>1.380180</td>\n",
       "    </tr>\n",
       "    <tr>\n",
       "      <th>BT20</th>\n",
       "      <td>0.321149</td>\n",
       "      <td>0.724543</td>\n",
       "      <td>1.000000</td>\n",
       "    </tr>\n",
       "    <tr>\n",
       "      <th>Scale Factor</th>\n",
       "      <td>0.443243</td>\n",
       "      <td>1.000000</td>\n",
       "      <td>1.380180</td>\n",
       "    </tr>\n",
       "    <tr>\n",
       "      <th>Main Tube</th>\n",
       "      <td>0.886486</td>\n",
       "      <td>2.000000</td>\n",
       "      <td>2.760360</td>\n",
       "    </tr>\n",
       "  </tbody>\n",
       "</table>\n",
       "</div>"
      ],
      "text/plain": [
       "                   BT2       BT5      BT20\n",
       "BT2           1.000000  2.256098  3.113821\n",
       "BT5           0.443243  1.000000  1.380180\n",
       "BT20          0.321149  0.724543  1.000000\n",
       "Scale Factor  0.443243  1.000000  1.380180\n",
       "Main Tube     0.886486  2.000000  2.760360"
      ]
     },
     "execution_count": 16,
     "metadata": {},
     "output_type": "execute_result"
    }
   ],
   "source": [
    "df.df"
   ]
  },
  {
   "cell_type": "code",
   "execution_count": null,
   "metadata": {},
   "outputs": [],
   "source": []
  }
 ],
 "metadata": {
  "kernelspec": {
   "display_name": "Python 3",
   "language": "python",
   "name": "python3"
  },
  "language_info": {
   "codemirror_mode": {
    "name": "ipython",
    "version": 3
   },
   "file_extension": ".py",
   "mimetype": "text/x-python",
   "name": "python",
   "nbconvert_exporter": "python",
   "pygments_lexer": "ipython3",
   "version": "3.7.3"
  }
 },
 "nbformat": 4,
 "nbformat_minor": 2
}
