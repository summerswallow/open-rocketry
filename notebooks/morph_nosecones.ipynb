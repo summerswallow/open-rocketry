{
 "cells": [
  {
   "cell_type": "code",
   "execution_count": 1,
   "metadata": {},
   "outputs": [],
   "source": [
    "import sys\n",
    "sys.path.append('/home/jovyan/rocketry/open_rocketry/library')\n",
    "from nosecone.morph_nosecone import *\n",
    "from bodytubes.semroc import bt5\n",
    "from misc.utils import render as rd\n",
    "import viewscad\n",
    "\n",
    "class Renderer():\n",
    "    def __init__(self, outdir=None, fn=200):\n",
    "        self.fn=fn\n",
    "        self.outdir=outdir\n",
    "        self.renderer = viewscad.Renderer()\n",
    "        \n",
    "    def render(self, in_obj, **kw):\n",
    "        if self.outdir:\n",
    "            pass\n",
    "        self.renderer.render(in_obj, dollar_sign_vars=dict(fn=200))\n",
    "        \n",
    "vr = viewscad.Renderer()"
   ]
  },
  {
   "cell_type": "code",
   "execution_count": 2,
   "metadata": {},
   "outputs": [
    {
     "data": {
      "application/vnd.jupyter.widget-view+json": {
       "model_id": "cb63d924ee3740378c26b2fe45727594",
       "version_major": 2,
       "version_minor": 0
      },
      "text/plain": [
       "VBox(children=(HTML(value=''), Renderer(background='#cccc88', background_opacity=0.0, camera=PerspectiveCamera…"
      ]
     },
     "metadata": {},
     "output_type": "display_data"
    }
   ],
   "source": [
    "nc = RectangularNoseCone(0.75, bodytube=bt5, thickness=1 / 16.)\n",
    "vr.render(nc.cone, dollar_sign_vars=dict(fn=200))"
   ]
  },
  {
   "cell_type": "code",
   "execution_count": 3,
   "metadata": {},
   "outputs": [
    {
     "data": {
      "application/vnd.jupyter.widget-view+json": {
       "model_id": "a27c0419ad9d4564b1628bde2fd22481",
       "version_major": 2,
       "version_minor": 0
      },
      "text/plain": [
       "VBox(children=(HTML(value=''), Renderer(background='#cccc88', background_opacity=0.0, camera=PerspectiveCamera…"
      ]
     },
     "metadata": {},
     "output_type": "display_data"
    }
   ],
   "source": [
    "nc = RectangularNoseCone(0.75,\n",
    "                         bodytube=bt5,\n",
    "                         width=.1,\n",
    "                         depth=.25,\n",
    "                         thickness=1 / 16.)\n",
    "vr.render(nc.cone, dollar_sign_vars=dict(fn=200))"
   ]
  },
  {
   "cell_type": "code",
   "execution_count": 4,
   "metadata": {},
   "outputs": [
    {
     "data": {
      "application/vnd.jupyter.widget-view+json": {
       "model_id": "71ace7249d77495cb8b7f1a55a449cd0",
       "version_major": 2,
       "version_minor": 0
      },
      "text/plain": [
       "VBox(children=(HTML(value=''), Renderer(background='#cccc88', background_opacity=0.0, camera=PerspectiveCamera…"
      ]
     },
     "metadata": {},
     "output_type": "display_data"
    }
   ],
   "source": [
    "nc = EllipseNoseCone(0.75, bodytube=bt5, thickness=1 / 16.)\n",
    "vr.render(nc.cone, dollar_sign_vars=dict(fn=200))"
   ]
  },
  {
   "cell_type": "code",
   "execution_count": 5,
   "metadata": {},
   "outputs": [
    {
     "data": {
      "application/vnd.jupyter.widget-view+json": {
       "model_id": "66f623a5551a48749f812e0d26a70222",
       "version_major": 2,
       "version_minor": 0
      },
      "text/plain": [
       "VBox(children=(HTML(value=''), Renderer(background='#cccc88', background_opacity=0.0, camera=PerspectiveCamera…"
      ]
     },
     "metadata": {},
     "output_type": "display_data"
    }
   ],
   "source": [
    "nc = StarNoseCone(0.75, bodytube=bt5, thickness=1 / 16.)\n",
    "vr.render(nc.cone, dollar_sign_vars=dict(fn=200))"
   ]
  },
  {
   "cell_type": "code",
   "execution_count": null,
   "metadata": {},
   "outputs": [],
   "source": []
  },
  {
   "cell_type": "code",
   "execution_count": null,
   "metadata": {},
   "outputs": [],
   "source": []
  },
  {
   "cell_type": "code",
   "execution_count": null,
   "metadata": {},
   "outputs": [],
   "source": []
  },
  {
   "cell_type": "code",
   "execution_count": null,
   "metadata": {},
   "outputs": [],
   "source": []
  },
  {
   "cell_type": "code",
   "execution_count": null,
   "metadata": {},
   "outputs": [],
   "source": []
  }
 ],
 "metadata": {
  "kernelspec": {
   "display_name": "Python 3",
   "language": "python",
   "name": "python3"
  },
  "language_info": {
   "codemirror_mode": {
    "name": "ipython",
    "version": 3
   },
   "file_extension": ".py",
   "mimetype": "text/x-python",
   "name": "python",
   "nbconvert_exporter": "python",
   "pygments_lexer": "ipython3",
   "version": "3.7.1"
  }
 },
 "nbformat": 4,
 "nbformat_minor": 2
}
