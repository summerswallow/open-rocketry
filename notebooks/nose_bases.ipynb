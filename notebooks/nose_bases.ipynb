{
 "cells": [
  {
   "cell_type": "code",
   "execution_count": 22,
   "metadata": {},
   "outputs": [],
   "source": [
    "import sys\n",
    "sys.path.append('/home/jovyan/rocketry/open_rocketry/library')\n",
    "from nosecone.shear_nosecone import *\n",
    "from nosecone.nosecone_threaded_bases import *\n",
    "from nosecone.nosecone_bases import *\n",
    "from nosecone.standard_nosecones import EllipticalNoseCone\n",
    "from bodytubes.semroc import bt5\n",
    "from nosecone_library.specific_noses import BNC5V\n",
    "from bodytubes.modelrockets_us import _3_00\n",
    "from misc.utils import render as rd\n",
    "import viewscad\n",
    "vr = viewscad.Renderer()"
   ]
  },
  {
   "cell_type": "code",
   "execution_count": 2,
   "metadata": {},
   "outputs": [],
   "source": [
    "enc = EllipticalNoseCone(0.75, bodytube=bt5, thickness=1 / 16.0, base_height=0.25, blunt_radius=0.125,\n",
    "                            mid_diameter=.3)"
   ]
  },
  {
   "cell_type": "code",
   "execution_count": 3,
   "metadata": {},
   "outputs": [
    {
     "name": "stdout",
     "output_type": "stream",
     "text": [
      "<solid.objects.difference object at 0x7fb2d45b0550> 1.5875 1.5875\n",
      "<solid.objects.difference object at 0x7fb2d45b0550> 1.5875 0\n"
     ]
    },
    {
     "data": {
      "application/vnd.jupyter.widget-view+json": {
       "model_id": "91877f19aeeb4a809938ae12c92595f1",
       "version_major": 2,
       "version_minor": 0
      },
      "text/plain": [
       "VBox(children=(HTML(value=''), Renderer(background='#cccc88', background_opacity=0.0, camera=PerspectiveCamera…"
      ]
     },
     "metadata": {},
     "output_type": "display_data"
    }
   ],
   "source": [
    "nc = ThreadedBaseOutset(enc, shoulder=0.5)\n",
    "vr.render(nc.cone, dollar_sign_vars=dict(fn=200))"
   ]
  },
  {
   "cell_type": "code",
   "execution_count": 4,
   "metadata": {},
   "outputs": [
    {
     "data": {
      "application/vnd.jupyter.widget-view+json": {
       "model_id": "86349331eb3842e69e1ba6286e966bfb",
       "version_major": 2,
       "version_minor": 0
      },
      "text/plain": [
       "VBox(children=(HTML(value=''), Renderer(background='#cccc88', background_opacity=0.0, camera=PerspectiveCamera…"
      ]
     },
     "metadata": {},
     "output_type": "display_data"
    }
   ],
   "source": [
    "vr.render(nc.mate, dollar_sign_vars=dict(fn=200))"
   ]
  },
  {
   "cell_type": "code",
   "execution_count": 5,
   "metadata": {},
   "outputs": [
    {
     "name": "stdout",
     "output_type": "stream",
     "text": [
      "<solid.objects.difference object at 0x7fb2d45b0550> 1.5875 0\n"
     ]
    },
    {
     "data": {
      "application/vnd.jupyter.widget-view+json": {
       "model_id": "412557caafa1480298e0daa7967b61cb",
       "version_major": 2,
       "version_minor": 0
      },
      "text/plain": [
       "VBox(children=(HTML(value=''), Renderer(background='#cccc88', background_opacity=0.0, camera=PerspectiveCamera…"
      ]
     },
     "metadata": {},
     "output_type": "display_data"
    }
   ],
   "source": [
    "nc=ThreadedBaseFlat(enc, shoulder=0.5)\n",
    "vr.render(nc.cone, dollar_sign_vars=dict(fn=200))"
   ]
  },
  {
   "cell_type": "code",
   "execution_count": 6,
   "metadata": {},
   "outputs": [
    {
     "data": {
      "application/vnd.jupyter.widget-view+json": {
       "model_id": "ec73d57be5304078a3c5928900018fdc",
       "version_major": 2,
       "version_minor": 0
      },
      "text/plain": [
       "VBox(children=(HTML(value=''), Renderer(background='#cccc88', background_opacity=0.0, camera=PerspectiveCamera…"
      ]
     },
     "metadata": {},
     "output_type": "display_data"
    }
   ],
   "source": [
    "vr.render(nc.mate, dollar_sign_vars=dict(fn=200))"
   ]
  },
  {
   "cell_type": "code",
   "execution_count": 7,
   "metadata": {},
   "outputs": [
    {
     "data": {
      "application/vnd.jupyter.widget-view+json": {
       "model_id": "3616912635f7412ab8339a8d5a80307b",
       "version_major": 2,
       "version_minor": 0
      },
      "text/plain": [
       "VBox(children=(HTML(value=''), Renderer(background='#cccc88', background_opacity=0.0, camera=PerspectiveCamera…"
      ]
     },
     "metadata": {},
     "output_type": "display_data"
    }
   ],
   "source": [
    "nc = ThreadedBaseInset(enc, shoulder=0.5)\n",
    "vr.render(nc.cone, dollar_sign_vars=dict(fn=200))"
   ]
  },
  {
   "cell_type": "code",
   "execution_count": 8,
   "metadata": {},
   "outputs": [
    {
     "data": {
      "application/vnd.jupyter.widget-view+json": {
       "model_id": "5bf55b1cb70c4b2eab0285c744a92d04",
       "version_major": 2,
       "version_minor": 0
      },
      "text/plain": [
       "VBox(children=(HTML(value=''), Renderer(background='#cccc88', background_opacity=0.0, camera=PerspectiveCamera…"
      ]
     },
     "metadata": {},
     "output_type": "display_data"
    }
   ],
   "source": [
    "vr.render(nc.mate, dollar_sign_vars=dict(fn=200))"
   ]
  },
  {
   "cell_type": "code",
   "execution_count": 9,
   "metadata": {},
   "outputs": [
    {
     "data": {
      "application/vnd.jupyter.widget-view+json": {
       "model_id": "0fb0bf269ebe4342991428b57a8c8f9f",
       "version_major": 2,
       "version_minor": 0
      },
      "text/plain": [
       "VBox(children=(HTML(value=''), Renderer(background='#cccc88', background_opacity=0.0, camera=PerspectiveCamera…"
      ]
     },
     "metadata": {},
     "output_type": "display_data"
    }
   ],
   "source": [
    "nc = OpenBase(enc, shoulder=0.5)\n",
    "vr.render(nc.cone, dollar_sign_vars=dict(fn=200))"
   ]
  },
  {
   "cell_type": "code",
   "execution_count": 10,
   "metadata": {},
   "outputs": [
    {
     "data": {
      "application/vnd.jupyter.widget-view+json": {
       "model_id": "64955e105b214b64aef8a6ba74989b5d",
       "version_major": 2,
       "version_minor": 0
      },
      "text/plain": [
       "VBox(children=(HTML(value=''), Renderer(background='#cccc88', background_opacity=0.0, camera=PerspectiveCamera…"
      ]
     },
     "metadata": {},
     "output_type": "display_data"
    }
   ],
   "source": [
    "nc = BaseWithRing(HollowBaseCutout(enc, shoulder=0.5))\n",
    "vr.render(nc.cone, dollar_sign_vars=dict(fn=200))\n"
   ]
  },
  {
   "cell_type": "code",
   "execution_count": 11,
   "metadata": {},
   "outputs": [
    {
     "data": {
      "application/vnd.jupyter.widget-view+json": {
       "model_id": "c6d4c15b1dd44bce9639489e209a54aa",
       "version_major": 2,
       "version_minor": 0
      },
      "text/plain": [
       "VBox(children=(HTML(value=''), Renderer(background='#cccc88', background_opacity=0.0, camera=PerspectiveCamera…"
      ]
     },
     "metadata": {},
     "output_type": "display_data"
    }
   ],
   "source": [
    "nc = BaseWithElbow(HollowBaseCutout(enc, shoulder=0.5))\n",
    "vr.render(nc.cone, dollar_sign_vars=dict(fn=200))\n"
   ]
  },
  {
   "cell_type": "code",
   "execution_count": 12,
   "metadata": {},
   "outputs": [
    {
     "data": {
      "application/vnd.jupyter.widget-view+json": {
       "model_id": "421e9039879442488247c0f0dc486b52",
       "version_major": 2,
       "version_minor": 0
      },
      "text/plain": [
       "VBox(children=(HTML(value=''), Renderer(background='#cccc88', background_opacity=0.0, camera=PerspectiveCamera…"
      ]
     },
     "metadata": {},
     "output_type": "display_data"
    }
   ],
   "source": [
    "nc = SolidBaseCutout(enc, shoulder=0.5)\n",
    "vr.render(nc.cone, dollar_sign_vars=dict(fn=200))\n"
   ]
  },
  {
   "cell_type": "code",
   "execution_count": 14,
   "metadata": {},
   "outputs": [
    {
     "data": {
      "application/vnd.jupyter.widget-view+json": {
       "model_id": "8a1e80923389479b87aebdc5f8eb380f",
       "version_major": 2,
       "version_minor": 0
      },
      "text/plain": [
       "VBox(children=(HTML(value=''), Renderer(background='#cccc88', background_opacity=0.0, camera=PerspectiveCamera…"
      ]
     },
     "metadata": {},
     "output_type": "display_data"
    }
   ],
   "source": [
    "nc = HollowBaseCutout(enc, shoulder=0.5)\n",
    "vr.render(nc.cone, dollar_sign_vars=dict(fn=200))\n"
   ]
  },
  {
   "cell_type": "code",
   "execution_count": 15,
   "metadata": {},
   "outputs": [
    {
     "data": {
      "application/vnd.jupyter.widget-view+json": {
       "model_id": "fc0c60d2d8274f2d92b085d0fe76677e",
       "version_major": 2,
       "version_minor": 0
      },
      "text/plain": [
       "VBox(children=(HTML(value=''), Renderer(background='#cccc88', background_opacity=0.0, camera=PerspectiveCamera…"
      ]
     },
     "metadata": {},
     "output_type": "display_data"
    }
   ],
   "source": [
    "nc = SolidBaseWithScrewHole(enc,\n",
    "                            shoulder=0.5,\n",
    "                            screw_diameter=1 / 16.,\n",
    "                            screw_length=0.25)\n",
    "vr.render(nc.cone, dollar_sign_vars=dict(fn=200))\n"
   ]
  },
  {
   "cell_type": "code",
   "execution_count": 16,
   "metadata": {},
   "outputs": [
    {
     "data": {
      "application/vnd.jupyter.widget-view+json": {
       "model_id": "413fc69daf9046379fc9a170498fa44e",
       "version_major": 2,
       "version_minor": 0
      },
      "text/plain": [
       "VBox(children=(HTML(value=''), Renderer(background='#cccc88', background_opacity=0.0, camera=PerspectiveCamera…"
      ]
     },
     "metadata": {},
     "output_type": "display_data"
    }
   ],
   "source": [
    "nc = HollowBaseWithScrewHole(enc,\n",
    "                             shoulder=0.5,\n",
    "                             screw_diameter=1 / 16.,\n",
    "                             screw_length=0.25)\n",
    "vr.render(nc.cone, dollar_sign_vars=dict(fn=200))\n"
   ]
  },
  {
   "cell_type": "code",
   "execution_count": 17,
   "metadata": {},
   "outputs": [
    {
     "data": {
      "application/vnd.jupyter.widget-view+json": {
       "model_id": "0e1dfe88ca5b44acbf4b66b165750053",
       "version_major": 2,
       "version_minor": 0
      },
      "text/plain": [
       "VBox(children=(HTML(value=''), Renderer(background='#cccc88', background_opacity=0.0, camera=PerspectiveCamera…"
      ]
     },
     "metadata": {},
     "output_type": "display_data"
    }
   ],
   "source": [
    "nc = HollowBase(enc, shoulder=0.5)\n",
    "\n",
    "vr.render(nc.cone, dollar_sign_vars=dict(fn=200))"
   ]
  },
  {
   "cell_type": "code",
   "execution_count": 23,
   "metadata": {},
   "outputs": [
    {
     "name": "stdout",
     "output_type": "stream",
     "text": [
      "New Length: 4.297597042513863 in\n",
      "<solid.objects.difference object at 0x7fb2b4adcc18> 19.049999999999997 0\n"
     ]
    },
    {
     "data": {
      "application/vnd.jupyter.widget-view+json": {
       "model_id": "d1e0cae543be4784b63a138f03b53b75",
       "version_major": 2,
       "version_minor": 0
      },
      "text/plain": [
       "VBox(children=(HTML(value=''), Renderer(background='#cccc88', background_opacity=0.0, camera=PerspectiveCamera…"
      ]
     },
     "metadata": {},
     "output_type": "display_data"
    }
   ],
   "source": [
    "#enc = EllipticalNoseCone(2.75, bodytube=bt55, thickness=1 / 16.0)\n",
    "enc = BNC5V(scale_bodytube=_3_00, thickness = 3/32.)\n",
    "sib = ScrewInBase(nc, shoulder=0.5, thread_height=0.75, thread_diameter=1.2)\n",
    "vr.render(sib.cone, dollar_sign_vars=dict(fn=200))"
   ]
  },
  {
   "cell_type": "code",
   "execution_count": null,
   "metadata": {},
   "outputs": [],
   "source": [
    "    \"\"\" Generate Examples\"\"\"\n",
    "    from standard_nosecones import EllipticalNoseCone\n",
    "    from nosecone_threaded_bases import *\n",
    "    from bodytubes.semroc import bt55\n",
    "    from bodytubes.modelrockets_us import _3_00\n",
    "    from nosecone_library.specific_noses import BNC5V\n",
    "    from misc import utils\n",
    "\n",
    "    nc = EllipticalNoseCone(2.75, bodytube=bt55, thickness=1 / 16.0)\n",
    "    nc = BNC5V(scale_bodytube=_3_00, thickness = 3/32.)\n",
    "    sib = ScrewInBase(nc, shoulder=0.5, thread_height=0.75, thread_diameter=1.2)\n",
    "    sib = ScrewInBaseWithScrewHole(nc, shoulder=0.5, thread_height=0.75, thread_diameter=1.2, screw_diameter=1 / 16., screw_length=0.25)\n",
    "    sib = ThreadedBaseOutsetScrewInBase(nc, shoulder=1.5, thread_height=1.0, thread_diameter=2.8)\n",
    "\n",
    "    array = utils.array(4, to_mm(5), [\n",
    "        sib.crosssection(),\n",
    "        nc.crosssection(sib.center_mate),\n",
    "        nc.crosssection(sib.mate)])\n",
    "    #ThreadedBaseFlat(nc, shoulder=0.5).cone_section1,\n",
    "    #        ThreadedBaseFlat(nc, shoulder=0.5).cone_section2])\n",
    "    utils.render_to_file(array, \"test.scad\")\n",
    "\n"
   ]
  }
 ],
 "metadata": {
  "kernelspec": {
   "display_name": "Python 3",
   "language": "python",
   "name": "python3"
  },
  "language_info": {
   "codemirror_mode": {
    "name": "ipython",
    "version": 3
   },
   "file_extension": ".py",
   "mimetype": "text/x-python",
   "name": "python",
   "nbconvert_exporter": "python",
   "pygments_lexer": "ipython3",
   "version": "3.7.1"
  }
 },
 "nbformat": 4,
 "nbformat_minor": 2
}
