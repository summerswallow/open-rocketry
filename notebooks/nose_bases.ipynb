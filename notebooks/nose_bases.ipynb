{
 "cells": [
  {
   "cell_type": "code",
   "execution_count": 1,
   "metadata": {},
   "outputs": [],
   "source": [
    "import sys\n",
    "sys.path.append('/home/jovyan/rocketry/open_rocketry/library')\n",
    "from nosecone.shear_nosecone import *\n",
    "from nosecone.nosecone_threaded_bases import *\n",
    "from nosecone.nosecone_bases import *\n",
    "from nosecone.standard_nosecones import EllipticalNoseCone\n",
    "from bodytubes.semroc import bt5\n",
    "from misc.utils import render as rd\n",
    "import viewscad\n",
    "vr = viewscad.Renderer()"
   ]
  },
  {
   "cell_type": "code",
   "execution_count": 2,
   "metadata": {},
   "outputs": [],
   "source": [
    "enc = EllipticalNoseCone(0.75, bodytube=bt5, thickness=1 / 16.0, base_height=0.25, blunt_radius=0.125,\n",
    "                            mid_diameter=.3)"
   ]
  },
  {
   "cell_type": "code",
   "execution_count": 10,
   "metadata": {},
   "outputs": [
    {
     "name": "stdout",
     "output_type": "stream",
     "text": [
      "<solid.objects.difference object at 0x7f822a6d8a58> 1.5875 1.5875\n",
      "<solid.objects.difference object at 0x7f822a6d8a58> 1.5875 0\n"
     ]
    },
    {
     "data": {
      "application/vnd.jupyter.widget-view+json": {
       "model_id": "ad49d6d67de04974b929c6a149647502",
       "version_major": 2,
       "version_minor": 0
      },
      "text/plain": [
       "VBox(children=(HTML(value=''), Renderer(background='#cccc88', background_opacity=0.0, camera=PerspectiveCamera…"
      ]
     },
     "metadata": {},
     "output_type": "display_data"
    },
    {
     "data": {
      "text/plain": [
       "'\\n,\\n       \\n        ThreadedBaseFlat(nc, shoulder=0.5),\\n        nc.crosssection(ThreadedBaseOutset(nc, shoulder=0.5).mate),\\n        BaseWithRing(HollowBaseCutout(nc, shoulder=0.5)),\\n\\n        BaseWithElbow(HollowBaseCutout(nc, shoulder=0.5)),\\n        SolidBaseCutout(nc, shoulder=0.5),\\n        HollowBaseCutout(nc, shoulder=0.5),\\n        SolidBaseWithScrewHole(nc, shoulder=0.5, screw_diameter=1 / 16., screw_length=0.25),\\n        HollowBaseWithScrewHole(nc, shoulder=0.5, screw_diameter=1 / 16., screw_length=0.25),\\n        HollowBase(nc, shoulder=0.5),\\n        OpenBase(nc, shoulder=0.5), SolidBase(nc, shoulder=0.5), NoBase(nc),\\n    ])\\n    utils.render_to_file(array, \"examples/nosecone_bases.scad\")\\n'"
      ]
     },
     "execution_count": 10,
     "metadata": {},
     "output_type": "execute_result"
    }
   ],
   "source": [
    "nc = ThreadedBaseOutset(enc, shoulder=0.5)\n",
    "vr.render(nc.cone, dollar_sign_vars=dict(fn=200))"
   ]
  },
  {
   "cell_type": "code",
   "execution_count": 11,
   "metadata": {},
   "outputs": [
    {
     "data": {
      "application/vnd.jupyter.widget-view+json": {
       "model_id": "ce415fce3c2b4134a0be6a3c6f34668d",
       "version_major": 2,
       "version_minor": 0
      },
      "text/plain": [
       "VBox(children=(HTML(value=''), Renderer(background='#cccc88', background_opacity=0.0, camera=PerspectiveCamera…"
      ]
     },
     "metadata": {},
     "output_type": "display_data"
    }
   ],
   "source": [
    "vr.render(nc.mate, dollar_sign_vars=dict(fn=200))"
   ]
  },
  {
   "cell_type": "code",
   "execution_count": 12,
   "metadata": {},
   "outputs": [
    {
     "name": "stdout",
     "output_type": "stream",
     "text": [
      "<solid.objects.difference object at 0x7f822a6d8a58> 1.5875 0\n"
     ]
    },
    {
     "data": {
      "application/vnd.jupyter.widget-view+json": {
       "model_id": "66813b29d8ff415fbf8a54ec232c5cbc",
       "version_major": 2,
       "version_minor": 0
      },
      "text/plain": [
       "VBox(children=(HTML(value=''), Renderer(background='#cccc88', background_opacity=0.0, camera=PerspectiveCamera…"
      ]
     },
     "metadata": {},
     "output_type": "display_data"
    }
   ],
   "source": [
    "nc=ThreadedBaseFlat(enc, shoulder=0.5)\n",
    "vr.render(nc.cone, dollar_sign_vars=dict(fn=200))"
   ]
  },
  {
   "cell_type": "code",
   "execution_count": 13,
   "metadata": {},
   "outputs": [
    {
     "data": {
      "application/vnd.jupyter.widget-view+json": {
       "model_id": "1ff0b25a9d60412d96f307ccd00183d3",
       "version_major": 2,
       "version_minor": 0
      },
      "text/plain": [
       "VBox(children=(HTML(value=''), Renderer(background='#cccc88', background_opacity=0.0, camera=PerspectiveCamera…"
      ]
     },
     "metadata": {},
     "output_type": "display_data"
    }
   ],
   "source": [
    "vr.render(nc.mate, dollar_sign_vars=dict(fn=200))"
   ]
  },
  {
   "cell_type": "code",
   "execution_count": 14,
   "metadata": {},
   "outputs": [
    {
     "data": {
      "application/vnd.jupyter.widget-view+json": {
       "model_id": "340d514465224b25942378c29cb6dd0f",
       "version_major": 2,
       "version_minor": 0
      },
      "text/plain": [
       "VBox(children=(HTML(value=''), Renderer(background='#cccc88', background_opacity=0.0, camera=PerspectiveCamera…"
      ]
     },
     "metadata": {},
     "output_type": "display_data"
    }
   ],
   "source": [
    "nc = ThreadedBaseInset(enc, shoulder=0.5)\n",
    "vr.render(nc.cone, dollar_sign_vars=dict(fn=200))"
   ]
  },
  {
   "cell_type": "code",
   "execution_count": 15,
   "metadata": {},
   "outputs": [
    {
     "data": {
      "application/vnd.jupyter.widget-view+json": {
       "model_id": "60446c5c4dc041c4a03dd8775526507e",
       "version_major": 2,
       "version_minor": 0
      },
      "text/plain": [
       "VBox(children=(HTML(value=''), Renderer(background='#cccc88', background_opacity=0.0, camera=PerspectiveCamera…"
      ]
     },
     "metadata": {},
     "output_type": "display_data"
    }
   ],
   "source": [
    "vr.render(nc.mate, dollar_sign_vars=dict(fn=200))"
   ]
  },
  {
   "cell_type": "code",
   "execution_count": 16,
   "metadata": {},
   "outputs": [
    {
     "data": {
      "application/vnd.jupyter.widget-view+json": {
       "model_id": "a1a4c3fa56094376823dd0d78d026e0d",
       "version_major": 2,
       "version_minor": 0
      },
      "text/plain": [
       "VBox(children=(HTML(value=''), Renderer(background='#cccc88', background_opacity=0.0, camera=PerspectiveCamera…"
      ]
     },
     "metadata": {},
     "output_type": "display_data"
    }
   ],
   "source": [
    "nc = OpenBase(enc, shoulder=0.5)\n",
    "vr.render(nc.cone, dollar_sign_vars=dict(fn=200))"
   ]
  },
  {
   "cell_type": "code",
   "execution_count": 18,
   "metadata": {},
   "outputs": [
    {
     "data": {
      "application/vnd.jupyter.widget-view+json": {
       "model_id": "9d735ef95fb74682915743c370c41f3b",
       "version_major": 2,
       "version_minor": 0
      },
      "text/plain": [
       "VBox(children=(HTML(value=''), Renderer(background='#cccc88', background_opacity=0.0, camera=PerspectiveCamera…"
      ]
     },
     "metadata": {},
     "output_type": "display_data"
    }
   ],
   "source": [
    "nc = BaseWithRing(HollowBaseCutout(enc, shoulder=0.5))\n",
    "vr.render(nc.cone, dollar_sign_vars=dict(fn=200))\n"
   ]
  },
  {
   "cell_type": "code",
   "execution_count": null,
   "metadata": {},
   "outputs": [],
   "source": [
    "nc = BaseWithElbow(HollowBaseCutout(enc, shoulder=0.5))\n",
    "vr.render(nc.cone, dollar_sign_vars=dict(fn=200))\n"
   ]
  },
  {
   "cell_type": "code",
   "execution_count": null,
   "metadata": {},
   "outputs": [],
   "source": [
    "nc = SolidBaseCutout(enc, shoulder=0.5)\n",
    "vr.render(nc.cone, dollar_sign_vars=dict(fn=200))\n"
   ]
  },
  {
   "cell_type": "code",
   "execution_count": null,
   "metadata": {},
   "outputs": [],
   "source": [
    "nc = HollowBaseCutout(enc, shoulder=0.5),\n",
    "vr.render(nc.cone, dollar_sign_vars=dict(fn=200))\n"
   ]
  },
  {
   "cell_type": "code",
   "execution_count": null,
   "metadata": {},
   "outputs": [],
   "source": [
    "nc = SolidBaseWithScrewHole(enc,\n",
    "                            shoulder=0.5,\n",
    "                            screw_diameter=1 / 16.,\n",
    "                            screw_length=0.25)\n",
    "vr.render(nc.cone, dollar_sign_vars=dict(fn=200))\n"
   ]
  },
  {
   "cell_type": "code",
   "execution_count": null,
   "metadata": {},
   "outputs": [],
   "source": [
    "nc = HollowBaseWithScrewHole(enc,\n",
    "                             shoulder=0.5,\n",
    "                             screw_diameter=1 / 16.,\n",
    "                             screw_length=0.25)\n",
    "vr.render(nc.cone, dollar_sign_vars=dict(fn=200))\n"
   ]
  },
  {
   "cell_type": "code",
   "execution_count": null,
   "metadata": {},
   "outputs": [],
   "source": [
    "nc = HollowBase(enc, shoulder=0.5)\n",
    "\n",
    "vr.render(nc.cone, dollar_sign_vars=dict(fn=200))"
   ]
  },
  {
   "cell_type": "code",
   "execution_count": null,
   "metadata": {},
   "outputs": [],
   "source": [
    "    nc = EllipticalNoseCone(2.75, bodytube=bt55, thickness=1 / 16.0)\n",
    "    nc = BNC5V(scale_bodytube=_3_00, thickness = 3/32.)\n",
    "    sib = ScrewInBase(nc, shoulder=0.5, thread_height=0.75, thread_diameter=1.2)\n"
   ]
  },
  {
   "cell_type": "code",
   "execution_count": null,
   "metadata": {},
   "outputs": [],
   "source": [
    "    \"\"\" Generate Examples\"\"\"\n",
    "    from standard_nosecones import EllipticalNoseCone\n",
    "    from nosecone_threaded_bases import *\n",
    "    from bodytubes.semroc import bt55\n",
    "    from bodytubes.modelrockets_us import _3_00\n",
    "    from nosecone_library.specific_noses import BNC5V\n",
    "    from misc import utils\n",
    "\n",
    "    nc = EllipticalNoseCone(2.75, bodytube=bt55, thickness=1 / 16.0)\n",
    "    nc = BNC5V(scale_bodytube=_3_00, thickness = 3/32.)\n",
    "    sib = ScrewInBase(nc, shoulder=0.5, thread_height=0.75, thread_diameter=1.2)\n",
    "    sib = ScrewInBaseWithScrewHole(nc, shoulder=0.5, thread_height=0.75, thread_diameter=1.2, screw_diameter=1 / 16., screw_length=0.25)\n",
    "    sib = ThreadedBaseOutsetScrewInBase(nc, shoulder=1.5, thread_height=1.0, thread_diameter=2.8)\n",
    "\n",
    "    array = utils.array(4, to_mm(5), [\n",
    "        sib.crosssection(),\n",
    "        nc.crosssection(sib.center_mate),\n",
    "        nc.crosssection(sib.mate)])\n",
    "    #ThreadedBaseFlat(nc, shoulder=0.5).cone_section1,\n",
    "    #        ThreadedBaseFlat(nc, shoulder=0.5).cone_section2])\n",
    "    utils.render_to_file(array, \"test.scad\")\n",
    "\n"
   ]
  }
 ],
 "metadata": {
  "kernelspec": {
   "display_name": "Python 3",
   "language": "python",
   "name": "python3"
  },
  "language_info": {
   "codemirror_mode": {
    "name": "ipython",
    "version": 3
   },
   "file_extension": ".py",
   "mimetype": "text/x-python",
   "name": "python",
   "nbconvert_exporter": "python",
   "pygments_lexer": "ipython3",
   "version": "3.7.1"
  }
 },
 "nbformat": 4,
 "nbformat_minor": 2
}
