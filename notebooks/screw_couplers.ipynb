{
 "cells": [
  {
   "cell_type": "code",
   "execution_count": 1,
   "metadata": {},
   "outputs": [],
   "source": [
    "import sys\n",
    "sys.path.append('/home/jovyan/rocketry/library')\n",
    "from other_parts.coupler import Coupler\n",
    "from viewscad_connector.renderer import Renderer\n",
    "from bodytubes.semroc import bt20\n",
    "from bodytubes.modelrockets_us import _29mm\n",
    "vr = Renderer()"
   ]
  },
  {
   "cell_type": "code",
   "execution_count": 2,
   "metadata": {},
   "outputs": [],
   "source": [
    "c=Coupler(height=2, thickness=1/16., bodytube=_29mm, inner_bodytube=bt20, threads_per_inch=10, fudge_outer=.01, fudge_inner=.02)"
   ]
  },
  {
   "cell_type": "code",
   "execution_count": 3,
   "metadata": {},
   "outputs": [
    {
     "data": {
      "application/vnd.jupyter.widget-view+json": {
       "model_id": "404573b576a347ed90a8feaa6401dc17",
       "version_major": 2,
       "version_minor": 0
      },
      "text/plain": [
       "VBox(children=(HTML(value=''), Renderer(background='#cccc88', background_opacity=0.0, camera=PerspectiveCamera…"
      ]
     },
     "metadata": {},
     "output_type": "display_data"
    }
   ],
   "source": [
    "vr.render(c.fittest(.125))"
   ]
  },
  {
   "cell_type": "code",
   "execution_count": null,
   "metadata": {},
   "outputs": [],
   "source": [
    "c=Coupler(2, bodytube=bt50, threads_per_inch=6, inner_bodytube=bt5, thickness=1 / 16)\n",
    "c=Coupler(1.5, bodytube=bt20, threads_per_inch=20, inner_bodytube=bt5, thickness=1 / 16., fudge=0.01)"
   ]
  }
 ],
 "metadata": {
  "kernelspec": {
   "display_name": "Python 3",
   "language": "python",
   "name": "python3"
  },
  "language_info": {
   "codemirror_mode": {
    "name": "ipython",
    "version": 3
   },
   "file_extension": ".py",
   "mimetype": "text/x-python",
   "name": "python",
   "nbconvert_exporter": "python",
   "pygments_lexer": "ipython3",
   "version": "3.7.6"
  }
 },
 "nbformat": 4,
 "nbformat_minor": 4
}
